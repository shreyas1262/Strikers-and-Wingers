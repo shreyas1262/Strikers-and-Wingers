{
 "cells": [
  {
   "cell_type": "markdown",
   "metadata": {},
   "source": [
    "##### This Jupyter Notebook is used to predict the number of goals scored by a striker or a winger in soccer based on various parameters such as age, height, current league, foot, goals in 2012/2013, goals in 2013/2014, etc"
   ]
  },
  {
   "cell_type": "code",
   "execution_count": 1,
   "metadata": {},
   "outputs": [
    {
     "name": "stderr",
     "output_type": "stream",
     "text": [
      "C:\\Users\\shreyas\\Anaconda3\\lib\\site-packages\\h5py\\__init__.py:36: FutureWarning: Conversion of the second argument of issubdtype from `float` to `np.floating` is deprecated. In future, it will be treated as `np.float64 == np.dtype(float).type`.\n",
      "  from ._conv import register_converters as _register_converters\n"
     ]
    }
   ],
   "source": [
    "import pandas as pd\n",
    "import numpy as np\n",
    "import seaborn as sns\n",
    "import matplotlib.pyplot as plt\n",
    "% matplotlib inline\n",
    "import tensorflow as tf\n",
    "from tensorflow import keras\n",
    "import sklearn\n",
    "import scipy.stats as stats"
   ]
  },
  {
   "cell_type": "markdown",
   "metadata": {},
   "source": [
    "##### Read data"
   ]
  },
  {
   "cell_type": "code",
   "execution_count": 2,
   "metadata": {},
   "outputs": [],
   "source": [
    "# Read csv file\n",
    "strikers_wingers = pd.read_csv('C:/Users/shreyas/Documents/Football Strikers/StrikerPerformance.csv')"
   ]
  },
  {
   "cell_type": "code",
   "execution_count": 3,
   "metadata": {},
   "outputs": [
    {
     "data": {
      "text/html": [
       "<div>\n",
       "<style scoped>\n",
       "    .dataframe tbody tr th:only-of-type {\n",
       "        vertical-align: middle;\n",
       "    }\n",
       "\n",
       "    .dataframe tbody tr th {\n",
       "        vertical-align: top;\n",
       "    }\n",
       "\n",
       "    .dataframe thead th {\n",
       "        text-align: right;\n",
       "    }\n",
       "</style>\n",
       "<table border=\"1\" class=\"dataframe\">\n",
       "  <thead>\n",
       "    <tr style=\"text-align: right;\">\n",
       "      <th></th>\n",
       "      <th>12/13 assists</th>\n",
       "      <th>12/13 games</th>\n",
       "      <th>12/13 goals</th>\n",
       "      <th>12/13 minutes</th>\n",
       "      <th>13/14 assists</th>\n",
       "      <th>13/14 games</th>\n",
       "      <th>13/14 goals</th>\n",
       "      <th>13/14 minutes</th>\n",
       "      <th>14/15 assists</th>\n",
       "      <th>14/15 games</th>\n",
       "      <th>...</th>\n",
       "      <th>17/18 goals</th>\n",
       "      <th>17/18 minutes</th>\n",
       "      <th>age</th>\n",
       "      <th>current club</th>\n",
       "      <th>current league</th>\n",
       "      <th>foot</th>\n",
       "      <th>height</th>\n",
       "      <th>name</th>\n",
       "      <th>nationality</th>\n",
       "      <th>position</th>\n",
       "    </tr>\n",
       "  </thead>\n",
       "  <tbody>\n",
       "    <tr>\n",
       "      <th>0</th>\n",
       "      <td>1.0</td>\n",
       "      <td>22.0</td>\n",
       "      <td>3.0</td>\n",
       "      <td>1057.0</td>\n",
       "      <td>4.0</td>\n",
       "      <td>30.0</td>\n",
       "      <td>1.0</td>\n",
       "      <td>1258.0</td>\n",
       "      <td>2.0</td>\n",
       "      <td>24.0</td>\n",
       "      <td>...</td>\n",
       "      <td>3.0</td>\n",
       "      <td>1194.0</td>\n",
       "      <td>26</td>\n",
       "      <td>Zenit St. Petersburg</td>\n",
       "      <td>Premier Liga</td>\n",
       "      <td>right</td>\n",
       "      <td>183.0</td>\n",
       "      <td>Dmitri Poloz</td>\n",
       "      <td>Russia</td>\n",
       "      <td>W</td>\n",
       "    </tr>\n",
       "    <tr>\n",
       "      <th>1</th>\n",
       "      <td>NaN</td>\n",
       "      <td>NaN</td>\n",
       "      <td>NaN</td>\n",
       "      <td>NaN</td>\n",
       "      <td>0.0</td>\n",
       "      <td>26.0</td>\n",
       "      <td>1.0</td>\n",
       "      <td>1255.0</td>\n",
       "      <td>6.0</td>\n",
       "      <td>48.0</td>\n",
       "      <td>...</td>\n",
       "      <td>6.0</td>\n",
       "      <td>1433.0</td>\n",
       "      <td>25</td>\n",
       "      <td>Zenit St. Petersburg</td>\n",
       "      <td>Premier Liga</td>\n",
       "      <td>both</td>\n",
       "      <td>180.0</td>\n",
       "      <td>Emiliano Rigoni</td>\n",
       "      <td>Argentina  Italy</td>\n",
       "      <td>W</td>\n",
       "    </tr>\n",
       "    <tr>\n",
       "      <th>2</th>\n",
       "      <td>NaN</td>\n",
       "      <td>NaN</td>\n",
       "      <td>NaN</td>\n",
       "      <td>NaN</td>\n",
       "      <td>0.0</td>\n",
       "      <td>7.0</td>\n",
       "      <td>1.0</td>\n",
       "      <td>296.0</td>\n",
       "      <td>4.0</td>\n",
       "      <td>37.0</td>\n",
       "      <td>...</td>\n",
       "      <td>3.0</td>\n",
       "      <td>1571.0</td>\n",
       "      <td>22</td>\n",
       "      <td>Zenit St. Petersburg</td>\n",
       "      <td>Premier Liga</td>\n",
       "      <td>both</td>\n",
       "      <td>179.0</td>\n",
       "      <td>Sebastián Driussi</td>\n",
       "      <td>Argentina  Italy</td>\n",
       "      <td>CF</td>\n",
       "    </tr>\n",
       "    <tr>\n",
       "      <th>3</th>\n",
       "      <td>5.0</td>\n",
       "      <td>26.0</td>\n",
       "      <td>13.0</td>\n",
       "      <td>2287.0</td>\n",
       "      <td>9.0</td>\n",
       "      <td>23.0</td>\n",
       "      <td>10.0</td>\n",
       "      <td>1777.0</td>\n",
       "      <td>7.0</td>\n",
       "      <td>39.0</td>\n",
       "      <td>...</td>\n",
       "      <td>19.0</td>\n",
       "      <td>2911.0</td>\n",
       "      <td>26</td>\n",
       "      <td>Zenit St. Petersburg</td>\n",
       "      <td>Premier Liga</td>\n",
       "      <td>right</td>\n",
       "      <td>183.0</td>\n",
       "      <td>Aleksandr Kokorin</td>\n",
       "      <td>Russia</td>\n",
       "      <td>CF</td>\n",
       "    </tr>\n",
       "    <tr>\n",
       "      <th>4</th>\n",
       "      <td>0.0</td>\n",
       "      <td>5.0</td>\n",
       "      <td>1.0</td>\n",
       "      <td>171.0</td>\n",
       "      <td>1.0</td>\n",
       "      <td>26.0</td>\n",
       "      <td>3.0</td>\n",
       "      <td>1305.0</td>\n",
       "      <td>NaN</td>\n",
       "      <td>NaN</td>\n",
       "      <td>...</td>\n",
       "      <td>4.0</td>\n",
       "      <td>2019.0</td>\n",
       "      <td>26</td>\n",
       "      <td>Zenit St. Petersburg</td>\n",
       "      <td>Premier Liga</td>\n",
       "      <td>right</td>\n",
       "      <td>188.0</td>\n",
       "      <td>Anton Zabolotnyi</td>\n",
       "      <td>Russia</td>\n",
       "      <td>CF</td>\n",
       "    </tr>\n",
       "  </tbody>\n",
       "</table>\n",
       "<p>5 rows × 32 columns</p>\n",
       "</div>"
      ],
      "text/plain": [
       "   12/13 assists  12/13 games  12/13 goals  12/13 minutes  13/14 assists  \\\n",
       "0            1.0         22.0          3.0         1057.0            4.0   \n",
       "1            NaN          NaN          NaN            NaN            0.0   \n",
       "2            NaN          NaN          NaN            NaN            0.0   \n",
       "3            5.0         26.0         13.0         2287.0            9.0   \n",
       "4            0.0          5.0          1.0          171.0            1.0   \n",
       "\n",
       "   13/14 games  13/14 goals  13/14 minutes  14/15 assists  14/15 games  \\\n",
       "0         30.0          1.0         1258.0            2.0         24.0   \n",
       "1         26.0          1.0         1255.0            6.0         48.0   \n",
       "2          7.0          1.0          296.0            4.0         37.0   \n",
       "3         23.0         10.0         1777.0            7.0         39.0   \n",
       "4         26.0          3.0         1305.0            NaN          NaN   \n",
       "\n",
       "     ...     17/18 goals  17/18 minutes  age          current club  \\\n",
       "0    ...             3.0         1194.0   26  Zenit St. Petersburg   \n",
       "1    ...             6.0         1433.0   25  Zenit St. Petersburg   \n",
       "2    ...             3.0         1571.0   22  Zenit St. Petersburg   \n",
       "3    ...            19.0         2911.0   26  Zenit St. Petersburg   \n",
       "4    ...             4.0         2019.0   26  Zenit St. Petersburg   \n",
       "\n",
       "   current league   foot  height               name       nationality  \\\n",
       "0    Premier Liga  right   183.0       Dmitri Poloz            Russia   \n",
       "1    Premier Liga   both   180.0    Emiliano Rigoni  Argentina  Italy   \n",
       "2    Premier Liga   both   179.0  Sebastián Driussi  Argentina  Italy   \n",
       "3    Premier Liga  right   183.0  Aleksandr Kokorin            Russia   \n",
       "4    Premier Liga  right   188.0   Anton Zabolotnyi            Russia   \n",
       "\n",
       "   position  \n",
       "0         W  \n",
       "1         W  \n",
       "2        CF  \n",
       "3        CF  \n",
       "4        CF  \n",
       "\n",
       "[5 rows x 32 columns]"
      ]
     },
     "execution_count": 3,
     "metadata": {},
     "output_type": "execute_result"
    }
   ],
   "source": [
    "strikers_wingers.head()"
   ]
  },
  {
   "cell_type": "markdown",
   "metadata": {},
   "source": [
    "##### Prepare data for processing"
   ]
  },
  {
   "cell_type": "code",
   "execution_count": 4,
   "metadata": {},
   "outputs": [
    {
     "data": {
      "text/html": [
       "<div>\n",
       "<style scoped>\n",
       "    .dataframe tbody tr th:only-of-type {\n",
       "        vertical-align: middle;\n",
       "    }\n",
       "\n",
       "    .dataframe tbody tr th {\n",
       "        vertical-align: top;\n",
       "    }\n",
       "\n",
       "    .dataframe thead th {\n",
       "        text-align: right;\n",
       "    }\n",
       "</style>\n",
       "<table border=\"1\" class=\"dataframe\">\n",
       "  <thead>\n",
       "    <tr style=\"text-align: right;\">\n",
       "      <th></th>\n",
       "      <th>name</th>\n",
       "      <th>age</th>\n",
       "      <th>position</th>\n",
       "      <th>foot</th>\n",
       "      <th>height</th>\n",
       "      <th>current league</th>\n",
       "      <th>current club</th>\n",
       "      <th>nationality</th>\n",
       "      <th>12/13 assists</th>\n",
       "      <th>12/13 games</th>\n",
       "      <th>...</th>\n",
       "      <th>15/16 goals</th>\n",
       "      <th>15/16 minutes</th>\n",
       "      <th>16/17 assists</th>\n",
       "      <th>16/17 games</th>\n",
       "      <th>16/17 goals</th>\n",
       "      <th>16/17 minutes</th>\n",
       "      <th>17/18 assists</th>\n",
       "      <th>17/18 games</th>\n",
       "      <th>17/18 goals</th>\n",
       "      <th>17/18 minutes</th>\n",
       "    </tr>\n",
       "  </thead>\n",
       "  <tbody>\n",
       "    <tr>\n",
       "      <th>0</th>\n",
       "      <td>Dmitri Poloz</td>\n",
       "      <td>26</td>\n",
       "      <td>W</td>\n",
       "      <td>right</td>\n",
       "      <td>183.0</td>\n",
       "      <td>Premier Liga</td>\n",
       "      <td>Zenit St. Petersburg</td>\n",
       "      <td>Russia</td>\n",
       "      <td>1.0</td>\n",
       "      <td>22.0</td>\n",
       "      <td>...</td>\n",
       "      <td>7.0</td>\n",
       "      <td>2132.0</td>\n",
       "      <td>8.0</td>\n",
       "      <td>40.0</td>\n",
       "      <td>14.0</td>\n",
       "      <td>2987.0</td>\n",
       "      <td>7.0</td>\n",
       "      <td>24.0</td>\n",
       "      <td>3.0</td>\n",
       "      <td>1194.0</td>\n",
       "    </tr>\n",
       "    <tr>\n",
       "      <th>1</th>\n",
       "      <td>Aleksandr Kokorin</td>\n",
       "      <td>26</td>\n",
       "      <td>CF</td>\n",
       "      <td>right</td>\n",
       "      <td>183.0</td>\n",
       "      <td>Premier Liga</td>\n",
       "      <td>Zenit St. Petersburg</td>\n",
       "      <td>Russia</td>\n",
       "      <td>5.0</td>\n",
       "      <td>26.0</td>\n",
       "      <td>...</td>\n",
       "      <td>8.0</td>\n",
       "      <td>1424.0</td>\n",
       "      <td>7.0</td>\n",
       "      <td>38.0</td>\n",
       "      <td>10.0</td>\n",
       "      <td>2889.0</td>\n",
       "      <td>4.0</td>\n",
       "      <td>34.0</td>\n",
       "      <td>19.0</td>\n",
       "      <td>2911.0</td>\n",
       "    </tr>\n",
       "    <tr>\n",
       "      <th>2</th>\n",
       "      <td>Quincy Promes</td>\n",
       "      <td>26</td>\n",
       "      <td>W</td>\n",
       "      <td>both</td>\n",
       "      <td>174.0</td>\n",
       "      <td>Premier Liga</td>\n",
       "      <td>Spartak Moscow</td>\n",
       "      <td>Netherlands  Suriname</td>\n",
       "      <td>11.0</td>\n",
       "      <td>42.0</td>\n",
       "      <td>...</td>\n",
       "      <td>18.0</td>\n",
       "      <td>2806.0</td>\n",
       "      <td>10.0</td>\n",
       "      <td>29.0</td>\n",
       "      <td>12.0</td>\n",
       "      <td>2474.0</td>\n",
       "      <td>8.0</td>\n",
       "      <td>28.0</td>\n",
       "      <td>15.0</td>\n",
       "      <td>2427.0</td>\n",
       "    </tr>\n",
       "    <tr>\n",
       "      <th>3</th>\n",
       "      <td>Lorenzo Melgarejo</td>\n",
       "      <td>27</td>\n",
       "      <td>W</td>\n",
       "      <td>left</td>\n",
       "      <td>178.0</td>\n",
       "      <td>Premier Liga</td>\n",
       "      <td>Spartak Moscow</td>\n",
       "      <td>Paraguay</td>\n",
       "      <td>5.0</td>\n",
       "      <td>40.0</td>\n",
       "      <td>...</td>\n",
       "      <td>11.0</td>\n",
       "      <td>1794.0</td>\n",
       "      <td>0.0</td>\n",
       "      <td>22.0</td>\n",
       "      <td>2.0</td>\n",
       "      <td>804.0</td>\n",
       "      <td>5.0</td>\n",
       "      <td>25.0</td>\n",
       "      <td>6.0</td>\n",
       "      <td>1092.0</td>\n",
       "    </tr>\n",
       "    <tr>\n",
       "      <th>4</th>\n",
       "      <td>Luiz Adriano</td>\n",
       "      <td>30</td>\n",
       "      <td>CF</td>\n",
       "      <td>right</td>\n",
       "      <td>183.0</td>\n",
       "      <td>Premier Liga</td>\n",
       "      <td>Spartak Moscow</td>\n",
       "      <td>Brazil</td>\n",
       "      <td>9.0</td>\n",
       "      <td>32.0</td>\n",
       "      <td>...</td>\n",
       "      <td>6.0</td>\n",
       "      <td>1504.0</td>\n",
       "      <td>1.0</td>\n",
       "      <td>15.0</td>\n",
       "      <td>2.0</td>\n",
       "      <td>591.0</td>\n",
       "      <td>7.0</td>\n",
       "      <td>29.0</td>\n",
       "      <td>11.0</td>\n",
       "      <td>2513.0</td>\n",
       "    </tr>\n",
       "  </tbody>\n",
       "</table>\n",
       "<p>5 rows × 32 columns</p>\n",
       "</div>"
      ],
      "text/plain": [
       "                name  age position   foot  height current league  \\\n",
       "0       Dmitri Poloz   26        W  right   183.0   Premier Liga   \n",
       "1  Aleksandr Kokorin   26       CF  right   183.0   Premier Liga   \n",
       "2      Quincy Promes   26        W   both   174.0   Premier Liga   \n",
       "3  Lorenzo Melgarejo   27        W   left   178.0   Premier Liga   \n",
       "4       Luiz Adriano   30       CF  right   183.0   Premier Liga   \n",
       "\n",
       "           current club            nationality  12/13 assists  12/13 games  \\\n",
       "0  Zenit St. Petersburg                 Russia            1.0         22.0   \n",
       "1  Zenit St. Petersburg                 Russia            5.0         26.0   \n",
       "2        Spartak Moscow  Netherlands  Suriname           11.0         42.0   \n",
       "3        Spartak Moscow               Paraguay            5.0         40.0   \n",
       "4        Spartak Moscow                 Brazil            9.0         32.0   \n",
       "\n",
       "       ...        15/16 goals  15/16 minutes  16/17 assists  16/17 games  \\\n",
       "0      ...                7.0         2132.0            8.0         40.0   \n",
       "1      ...                8.0         1424.0            7.0         38.0   \n",
       "2      ...               18.0         2806.0           10.0         29.0   \n",
       "3      ...               11.0         1794.0            0.0         22.0   \n",
       "4      ...                6.0         1504.0            1.0         15.0   \n",
       "\n",
       "   16/17 goals  16/17 minutes  17/18 assists  17/18 games  17/18 goals  \\\n",
       "0         14.0         2987.0            7.0         24.0          3.0   \n",
       "1         10.0         2889.0            4.0         34.0         19.0   \n",
       "2         12.0         2474.0            8.0         28.0         15.0   \n",
       "3          2.0          804.0            5.0         25.0          6.0   \n",
       "4          2.0          591.0            7.0         29.0         11.0   \n",
       "\n",
       "   17/18 minutes  \n",
       "0         1194.0  \n",
       "1         2911.0  \n",
       "2         2427.0  \n",
       "3         1092.0  \n",
       "4         2513.0  \n",
       "\n",
       "[5 rows x 32 columns]"
      ]
     },
     "execution_count": 4,
     "metadata": {},
     "output_type": "execute_result"
    }
   ],
   "source": [
    "strikers_wingers_personal_info = strikers_wingers[['name','age','position','foot','height','current league','current club','nationality']]\n",
    "strikers_wingers_match_info = strikers_wingers.drop(['name','age','position','foot','height','current league','current club', 'nationality'], axis=1)\n",
    "strikers_wingers_info = pd.concat([strikers_wingers_personal_info, strikers_wingers_match_info], axis=\"columns\")\n",
    "strikers_wingers_info = strikers_wingers_info.dropna().reset_index().drop('index', axis=1)\n",
    "strikers_wingers_info.head()"
   ]
  },
  {
   "cell_type": "markdown",
   "metadata": {},
   "source": [
    "##### Add fields to gain insights"
   ]
  },
  {
   "cell_type": "code",
   "execution_count": 5,
   "metadata": {},
   "outputs": [
    {
     "data": {
      "text/html": [
       "<div>\n",
       "<style scoped>\n",
       "    .dataframe tbody tr th:only-of-type {\n",
       "        vertical-align: middle;\n",
       "    }\n",
       "\n",
       "    .dataframe tbody tr th {\n",
       "        vertical-align: top;\n",
       "    }\n",
       "\n",
       "    .dataframe thead th {\n",
       "        text-align: right;\n",
       "    }\n",
       "</style>\n",
       "<table border=\"1\" class=\"dataframe\">\n",
       "  <thead>\n",
       "    <tr style=\"text-align: right;\">\n",
       "      <th></th>\n",
       "      <th>name</th>\n",
       "      <th>age</th>\n",
       "      <th>position</th>\n",
       "      <th>foot</th>\n",
       "      <th>height</th>\n",
       "      <th>current league</th>\n",
       "      <th>current club</th>\n",
       "      <th>nationality</th>\n",
       "      <th>12/13 assists</th>\n",
       "      <th>12/13 games</th>\n",
       "      <th>...</th>\n",
       "      <th>16/17 games</th>\n",
       "      <th>16/17 goals</th>\n",
       "      <th>16/17 minutes</th>\n",
       "      <th>17/18 assists</th>\n",
       "      <th>17/18 games</th>\n",
       "      <th>17/18 goals</th>\n",
       "      <th>17/18 minutes</th>\n",
       "      <th>total goals</th>\n",
       "      <th>total assists</th>\n",
       "      <th>total minutes</th>\n",
       "    </tr>\n",
       "  </thead>\n",
       "  <tbody>\n",
       "    <tr>\n",
       "      <th>0</th>\n",
       "      <td>Dmitri Poloz</td>\n",
       "      <td>26</td>\n",
       "      <td>W</td>\n",
       "      <td>right</td>\n",
       "      <td>183.0</td>\n",
       "      <td>Premier Liga</td>\n",
       "      <td>Zenit St. Petersburg</td>\n",
       "      <td>Russia</td>\n",
       "      <td>1.0</td>\n",
       "      <td>22.0</td>\n",
       "      <td>...</td>\n",
       "      <td>40.0</td>\n",
       "      <td>14.0</td>\n",
       "      <td>2987.0</td>\n",
       "      <td>7.0</td>\n",
       "      <td>24.0</td>\n",
       "      <td>3.0</td>\n",
       "      <td>1194.0</td>\n",
       "      <td>29.0</td>\n",
       "      <td>21.0</td>\n",
       "      <td>8956.0</td>\n",
       "    </tr>\n",
       "    <tr>\n",
       "      <th>1</th>\n",
       "      <td>Aleksandr Kokorin</td>\n",
       "      <td>26</td>\n",
       "      <td>CF</td>\n",
       "      <td>right</td>\n",
       "      <td>183.0</td>\n",
       "      <td>Premier Liga</td>\n",
       "      <td>Zenit St. Petersburg</td>\n",
       "      <td>Russia</td>\n",
       "      <td>5.0</td>\n",
       "      <td>26.0</td>\n",
       "      <td>...</td>\n",
       "      <td>38.0</td>\n",
       "      <td>10.0</td>\n",
       "      <td>2889.0</td>\n",
       "      <td>4.0</td>\n",
       "      <td>34.0</td>\n",
       "      <td>19.0</td>\n",
       "      <td>2911.0</td>\n",
       "      <td>51.0</td>\n",
       "      <td>31.0</td>\n",
       "      <td>11162.0</td>\n",
       "    </tr>\n",
       "    <tr>\n",
       "      <th>2</th>\n",
       "      <td>Quincy Promes</td>\n",
       "      <td>26</td>\n",
       "      <td>W</td>\n",
       "      <td>both</td>\n",
       "      <td>174.0</td>\n",
       "      <td>Premier Liga</td>\n",
       "      <td>Spartak Moscow</td>\n",
       "      <td>Netherlands  Suriname</td>\n",
       "      <td>11.0</td>\n",
       "      <td>42.0</td>\n",
       "      <td>...</td>\n",
       "      <td>29.0</td>\n",
       "      <td>12.0</td>\n",
       "      <td>2474.0</td>\n",
       "      <td>8.0</td>\n",
       "      <td>28.0</td>\n",
       "      <td>15.0</td>\n",
       "      <td>2427.0</td>\n",
       "      <td>71.0</td>\n",
       "      <td>42.0</td>\n",
       "      <td>14187.0</td>\n",
       "    </tr>\n",
       "    <tr>\n",
       "      <th>3</th>\n",
       "      <td>Lorenzo Melgarejo</td>\n",
       "      <td>27</td>\n",
       "      <td>W</td>\n",
       "      <td>left</td>\n",
       "      <td>178.0</td>\n",
       "      <td>Premier Liga</td>\n",
       "      <td>Spartak Moscow</td>\n",
       "      <td>Paraguay</td>\n",
       "      <td>5.0</td>\n",
       "      <td>40.0</td>\n",
       "      <td>...</td>\n",
       "      <td>22.0</td>\n",
       "      <td>2.0</td>\n",
       "      <td>804.0</td>\n",
       "      <td>5.0</td>\n",
       "      <td>25.0</td>\n",
       "      <td>6.0</td>\n",
       "      <td>1092.0</td>\n",
       "      <td>26.0</td>\n",
       "      <td>10.0</td>\n",
       "      <td>8958.0</td>\n",
       "    </tr>\n",
       "    <tr>\n",
       "      <th>4</th>\n",
       "      <td>Luiz Adriano</td>\n",
       "      <td>30</td>\n",
       "      <td>CF</td>\n",
       "      <td>right</td>\n",
       "      <td>183.0</td>\n",
       "      <td>Premier Liga</td>\n",
       "      <td>Spartak Moscow</td>\n",
       "      <td>Brazil</td>\n",
       "      <td>9.0</td>\n",
       "      <td>32.0</td>\n",
       "      <td>...</td>\n",
       "      <td>15.0</td>\n",
       "      <td>2.0</td>\n",
       "      <td>591.0</td>\n",
       "      <td>7.0</td>\n",
       "      <td>29.0</td>\n",
       "      <td>11.0</td>\n",
       "      <td>2513.0</td>\n",
       "      <td>75.0</td>\n",
       "      <td>29.0</td>\n",
       "      <td>10351.0</td>\n",
       "    </tr>\n",
       "  </tbody>\n",
       "</table>\n",
       "<p>5 rows × 35 columns</p>\n",
       "</div>"
      ],
      "text/plain": [
       "                name  age position   foot  height current league  \\\n",
       "0       Dmitri Poloz   26        W  right   183.0   Premier Liga   \n",
       "1  Aleksandr Kokorin   26       CF  right   183.0   Premier Liga   \n",
       "2      Quincy Promes   26        W   both   174.0   Premier Liga   \n",
       "3  Lorenzo Melgarejo   27        W   left   178.0   Premier Liga   \n",
       "4       Luiz Adriano   30       CF  right   183.0   Premier Liga   \n",
       "\n",
       "           current club            nationality  12/13 assists  12/13 games  \\\n",
       "0  Zenit St. Petersburg                 Russia            1.0         22.0   \n",
       "1  Zenit St. Petersburg                 Russia            5.0         26.0   \n",
       "2        Spartak Moscow  Netherlands  Suriname           11.0         42.0   \n",
       "3        Spartak Moscow               Paraguay            5.0         40.0   \n",
       "4        Spartak Moscow                 Brazil            9.0         32.0   \n",
       "\n",
       "       ...        16/17 games  16/17 goals  16/17 minutes  17/18 assists  \\\n",
       "0      ...               40.0         14.0         2987.0            7.0   \n",
       "1      ...               38.0         10.0         2889.0            4.0   \n",
       "2      ...               29.0         12.0         2474.0            8.0   \n",
       "3      ...               22.0          2.0          804.0            5.0   \n",
       "4      ...               15.0          2.0          591.0            7.0   \n",
       "\n",
       "   17/18 games  17/18 goals  17/18 minutes  total goals  total assists  \\\n",
       "0         24.0          3.0         1194.0         29.0           21.0   \n",
       "1         34.0         19.0         2911.0         51.0           31.0   \n",
       "2         28.0         15.0         2427.0         71.0           42.0   \n",
       "3         25.0          6.0         1092.0         26.0           10.0   \n",
       "4         29.0         11.0         2513.0         75.0           29.0   \n",
       "\n",
       "   total minutes  \n",
       "0         8956.0  \n",
       "1        11162.0  \n",
       "2        14187.0  \n",
       "3         8958.0  \n",
       "4        10351.0  \n",
       "\n",
       "[5 rows x 35 columns]"
      ]
     },
     "execution_count": 5,
     "metadata": {},
     "output_type": "execute_result"
    }
   ],
   "source": [
    "strikers_wingers_info['total goals'] = strikers_wingers_info['12/13 goals'] + strikers_wingers_info['13/14 goals'] + strikers_wingers_info['14/15 goals'] + strikers_wingers_info['15/16 goals'] + strikers_wingers_info['16/17 goals']\n",
    "strikers_wingers_info['total assists'] = strikers_wingers_info['12/13 assists'] + strikers_wingers_info['13/14 assists'] + strikers_wingers_info['14/15 assists'] + strikers_wingers_info['15/16 assists'] + strikers_wingers_info['16/17 assists']\n",
    "strikers_wingers_info['total minutes'] = strikers_wingers_info['12/13 minutes'] + strikers_wingers_info['13/14 minutes'] + strikers_wingers_info['14/15 minutes'] + strikers_wingers_info['15/16 minutes'] + strikers_wingers_info['16/17 minutes']\n",
    "strikers_wingers_info.head()"
   ]
  },
  {
   "cell_type": "markdown",
   "metadata": {},
   "source": [
    "##### Scatter plot to plot age vs goals scored by league"
   ]
  },
  {
   "cell_type": "code",
   "execution_count": 6,
   "metadata": {},
   "outputs": [
    {
     "data": {
      "text/plain": [
       "<seaborn.axisgrid.FacetGrid at 0xeff387df98>"
      ]
     },
     "execution_count": 6,
     "metadata": {},
     "output_type": "execute_result"
    },
    {
     "data": {
      "image/png": "[encoded data removed]",
      "text/plain": [
       "<Figure size 486.5x360 with 1 Axes>"
      ]
     },
     "metadata": {},
     "output_type": "display_data"
    }
   ],
   "source": [
    "sns.lmplot(x='age', y='total goals', data=strikers_wingers_info, hue='current league')"
   ]
  },
  {
   "cell_type": "markdown",
   "metadata": {},
   "source": [
    "##### Get top 10 goal scorers"
   ]
  },
  {
   "cell_type": "code",
   "execution_count": 7,
   "metadata": {},
   "outputs": [
    {
     "data": {
      "text/html": [
       "<div>\n",
       "<style scoped>\n",
       "    .dataframe tbody tr th:only-of-type {\n",
       "        vertical-align: middle;\n",
       "    }\n",
       "\n",
       "    .dataframe tbody tr th {\n",
       "        vertical-align: top;\n",
       "    }\n",
       "\n",
       "    .dataframe thead th {\n",
       "        text-align: right;\n",
       "    }\n",
       "</style>\n",
       "<table border=\"1\" class=\"dataframe\">\n",
       "  <thead>\n",
       "    <tr style=\"text-align: right;\">\n",
       "      <th></th>\n",
       "      <th>name</th>\n",
       "      <th>current club</th>\n",
       "      <th>age</th>\n",
       "      <th>total goals</th>\n",
       "    </tr>\n",
       "  </thead>\n",
       "  <tbody>\n",
       "    <tr>\n",
       "      <th>60</th>\n",
       "      <td>Cristiano Ronaldo</td>\n",
       "      <td>Real Madrid</td>\n",
       "      <td>33</td>\n",
       "      <td>260.0</td>\n",
       "    </tr>\n",
       "    <tr>\n",
       "      <th>56</th>\n",
       "      <td>Lionel Messi</td>\n",
       "      <td>FC Barcelona</td>\n",
       "      <td>30</td>\n",
       "      <td>254.0</td>\n",
       "    </tr>\n",
       "    <tr>\n",
       "      <th>231</th>\n",
       "      <td>Zlatan Ibrahimovic</td>\n",
       "      <td>Manchester United</td>\n",
       "      <td>36</td>\n",
       "      <td>184.0</td>\n",
       "    </tr>\n",
       "    <tr>\n",
       "      <th>58</th>\n",
       "      <td>Luis Suárez</td>\n",
       "      <td>FC Barcelona</td>\n",
       "      <td>31</td>\n",
       "      <td>182.0</td>\n",
       "    </tr>\n",
       "    <tr>\n",
       "      <th>481</th>\n",
       "      <td>Edinson Cavani</td>\n",
       "      <td>Paris Saint-Germain</td>\n",
       "      <td>31</td>\n",
       "      <td>168.0</td>\n",
       "    </tr>\n",
       "    <tr>\n",
       "      <th>245</th>\n",
       "      <td>Pierre-Emerick Aubameyang</td>\n",
       "      <td>Arsenal FC</td>\n",
       "      <td>28</td>\n",
       "      <td>141.0</td>\n",
       "    </tr>\n",
       "    <tr>\n",
       "      <th>549</th>\n",
       "      <td>Gonzalo Higuaín</td>\n",
       "      <td>Juventus FC</td>\n",
       "      <td>30</td>\n",
       "      <td>141.0</td>\n",
       "    </tr>\n",
       "    <tr>\n",
       "      <th>226</th>\n",
       "      <td>Sergio Agüero</td>\n",
       "      <td>Manchester City</td>\n",
       "      <td>29</td>\n",
       "      <td>139.0</td>\n",
       "    </tr>\n",
       "    <tr>\n",
       "      <th>89</th>\n",
       "      <td>Aritz Aduriz</td>\n",
       "      <td>Athletic Bilbao</td>\n",
       "      <td>37</td>\n",
       "      <td>122.0</td>\n",
       "    </tr>\n",
       "    <tr>\n",
       "      <th>246</th>\n",
       "      <td>Alexandre Lacazette</td>\n",
       "      <td>Arsenal FC</td>\n",
       "      <td>26</td>\n",
       "      <td>117.0</td>\n",
       "    </tr>\n",
       "  </tbody>\n",
       "</table>\n",
       "</div>"
      ],
      "text/plain": [
       "                          name         current club  age  total goals\n",
       "60           Cristiano Ronaldo          Real Madrid   33        260.0\n",
       "56                Lionel Messi         FC Barcelona   30        254.0\n",
       "231         Zlatan Ibrahimovic    Manchester United   36        184.0\n",
       "58                 Luis Suárez         FC Barcelona   31        182.0\n",
       "481             Edinson Cavani  Paris Saint-Germain   31        168.0\n",
       "245  Pierre-Emerick Aubameyang           Arsenal FC   28        141.0\n",
       "549            Gonzalo Higuaín          Juventus FC   30        141.0\n",
       "226              Sergio Agüero      Manchester City   29        139.0\n",
       "89                Aritz Aduriz      Athletic Bilbao   37        122.0\n",
       "246        Alexandre Lacazette           Arsenal FC   26        117.0"
      ]
     },
     "execution_count": 7,
     "metadata": {},
     "output_type": "execute_result"
    }
   ],
   "source": [
    "top_10_goal_scorers = strikers_wingers_info[['name','current club','age','total goals']]\n",
    "top_10_goal_scorers = top_10_goal_scorers.sort_values('total goals', ascending=False)\n",
    "top_10_goal_scorers = top_10_goal_scorers.nlargest(10, 'total goals')\n",
    "top_10_goal_scorers"
   ]
  },
  {
   "cell_type": "markdown",
   "metadata": {},
   "source": [
    "##### Get a histogram of total goals scored by players"
   ]
  },
  {
   "cell_type": "code",
   "execution_count": 8,
   "metadata": {},
   "outputs": [
    {
     "name": "stderr",
     "output_type": "stream",
     "text": [
      "C:\\Users\\shreyas\\Anaconda3\\lib\\site-packages\\matplotlib\\axes\\_axes.py:6462: UserWarning: The 'normed' kwarg is deprecated, and has been replaced by the 'density' kwarg.\n",
      "  warnings.warn(\"The 'normed' kwarg is deprecated, and has been \"\n"
     ]
    },
    {
     "data": {
      "text/plain": [
       "<matplotlib.axes._subplots.AxesSubplot at 0xeff48cc400>"
      ]
     },
     "execution_count": 8,
     "metadata": {},
     "output_type": "execute_result"
    },
    {
     "data": {
      "image/png": "[encoded data removed]",
      "text/plain": [
       "<Figure size 432x288 with 1 Axes>"
      ]
     },
     "metadata": {},
     "output_type": "display_data"
    }
   ],
   "source": [
    "sns.distplot(strikers_wingers_info['total goals'])"
   ]
  },
  {
   "cell_type": "markdown",
   "metadata": {},
   "source": [
    "##### Bar plot to visualize the number of players according to preferred foot from 2012 - 2018"
   ]
  },
  {
   "cell_type": "code",
   "execution_count": 9,
   "metadata": {},
   "outputs": [
    {
     "data": {
      "text/plain": [
       "<matplotlib.axes._subplots.AxesSubplot at 0xeff48ebac8>"
      ]
     },
     "execution_count": 9,
     "metadata": {},
     "output_type": "execute_result"
    },
    {
     "data": {
      "image/png": "[encoded data removed]",
      "text/plain": [
       "<Figure size 432x288 with 1 Axes>"
      ]
     },
     "metadata": {},
     "output_type": "display_data"
    }
   ],
   "source": [
    "sns.countplot(x='foot', data=strikers_wingers_info)"
   ]
  },
  {
   "cell_type": "markdown",
   "metadata": {},
   "source": [
    "##### Average number of goals scored by a player according to preferred foot from 2012 - 2018"
   ]
  },
  {
   "cell_type": "code",
   "execution_count": 10,
   "metadata": {},
   "outputs": [
    {
     "data": {
      "text/html": [
       "<div>\n",
       "<style scoped>\n",
       "    .dataframe tbody tr th:only-of-type {\n",
       "        vertical-align: middle;\n",
       "    }\n",
       "\n",
       "    .dataframe tbody tr th {\n",
       "        vertical-align: top;\n",
       "    }\n",
       "\n",
       "    .dataframe thead th {\n",
       "        text-align: right;\n",
       "    }\n",
       "</style>\n",
       "<table border=\"1\" class=\"dataframe\">\n",
       "  <thead>\n",
       "    <tr style=\"text-align: right;\">\n",
       "      <th></th>\n",
       "      <th>foot</th>\n",
       "      <th>total goals</th>\n",
       "    </tr>\n",
       "  </thead>\n",
       "  <tbody>\n",
       "    <tr>\n",
       "      <th>0</th>\n",
       "      <td>both</td>\n",
       "      <td>42.212766</td>\n",
       "    </tr>\n",
       "    <tr>\n",
       "      <th>1</th>\n",
       "      <td>left</td>\n",
       "      <td>36.723881</td>\n",
       "    </tr>\n",
       "    <tr>\n",
       "      <th>2</th>\n",
       "      <td>right</td>\n",
       "      <td>39.152941</td>\n",
       "    </tr>\n",
       "  </tbody>\n",
       "</table>\n",
       "</div>"
      ],
      "text/plain": [
       "    foot  total goals\n",
       "0   both    42.212766\n",
       "1   left    36.723881\n",
       "2  right    39.152941"
      ]
     },
     "execution_count": 10,
     "metadata": {},
     "output_type": "execute_result"
    }
   ],
   "source": [
    "foot_goals = strikers_wingers_info[['foot','total goals']]\n",
    "foot_goals = foot_goals.groupby('foot', as_index=False)\n",
    "foot_goals = foot_goals.aggregate(np.mean)\n",
    "foot_goals"
   ]
  },
  {
   "cell_type": "markdown",
   "metadata": {},
   "source": [
    "##### Perform Anova Test to check if means of goals scored differs accordig to foot "
   ]
  },
  {
   "cell_type": "code",
   "execution_count": 11,
   "metadata": {},
   "outputs": [
    {
     "data": {
      "text/plain": [
       "F_onewayResult(statistic=1.10777167353546, pvalue=0.3308449579552767)"
      ]
     },
     "execution_count": 11,
     "metadata": {},
     "output_type": "execute_result"
    }
   ],
   "source": [
    "left_goals = strikers_wingers_info[strikers_wingers_info['foot'] == 'left']['total goals']\n",
    "right_goals = strikers_wingers_info[strikers_wingers_info['foot'] == 'right']['total goals']\n",
    "both_goals = strikers_wingers_info[strikers_wingers_info['foot'] == 'both']['total goals']\n",
    "\n",
    "stats.f_oneway(left_goals, right_goals, both_goals)"
   ]
  },
  {
   "cell_type": "markdown",
   "metadata": {},
   "source": [
    "##### From the above results we can see that the p-value > 0.05 and hence, we cannot reject the Null Hypothesis that the average goals cored is same for each foot"
   ]
  },
  {
   "cell_type": "markdown",
   "metadata": {},
   "source": [
    "##### Average number of total goals scored and total minutes played in a particular league from 2012 - 2018"
   ]
  },
  {
   "cell_type": "code",
   "execution_count": 12,
   "metadata": {},
   "outputs": [
    {
     "data": {
      "text/html": [
       "<div>\n",
       "<style scoped>\n",
       "    .dataframe tbody tr th:only-of-type {\n",
       "        vertical-align: middle;\n",
       "    }\n",
       "\n",
       "    .dataframe tbody tr th {\n",
       "        vertical-align: top;\n",
       "    }\n",
       "\n",
       "    .dataframe thead th {\n",
       "        text-align: right;\n",
       "    }\n",
       "</style>\n",
       "<table border=\"1\" class=\"dataframe\">\n",
       "  <thead>\n",
       "    <tr style=\"text-align: right;\">\n",
       "      <th></th>\n",
       "      <th>current league</th>\n",
       "      <th>total goals</th>\n",
       "      <th>total minutes</th>\n",
       "    </tr>\n",
       "  </thead>\n",
       "  <tbody>\n",
       "    <tr>\n",
       "      <th>0</th>\n",
       "      <td>Eredivisie</td>\n",
       "      <td>36.197183</td>\n",
       "      <td>8944.380282</td>\n",
       "    </tr>\n",
       "    <tr>\n",
       "      <th>1</th>\n",
       "      <td>Jupiler Pro League</td>\n",
       "      <td>34.354839</td>\n",
       "      <td>9446.451613</td>\n",
       "    </tr>\n",
       "    <tr>\n",
       "      <th>2</th>\n",
       "      <td>LaLiga</td>\n",
       "      <td>46.690722</td>\n",
       "      <td>10744.381443</td>\n",
       "    </tr>\n",
       "    <tr>\n",
       "      <th>3</th>\n",
       "      <td>Liga NOS</td>\n",
       "      <td>30.019231</td>\n",
       "      <td>8640.365385</td>\n",
       "    </tr>\n",
       "    <tr>\n",
       "      <th>4</th>\n",
       "      <td>Ligue 1</td>\n",
       "      <td>37.779412</td>\n",
       "      <td>9449.308824</td>\n",
       "    </tr>\n",
       "    <tr>\n",
       "      <th>5</th>\n",
       "      <td>Premier League</td>\n",
       "      <td>52.050505</td>\n",
       "      <td>12043.424242</td>\n",
       "    </tr>\n",
       "    <tr>\n",
       "      <th>6</th>\n",
       "      <td>Premier Liga</td>\n",
       "      <td>29.375000</td>\n",
       "      <td>8253.803571</td>\n",
       "    </tr>\n",
       "    <tr>\n",
       "      <th>7</th>\n",
       "      <td>Serie A</td>\n",
       "      <td>44.282051</td>\n",
       "      <td>10207.371795</td>\n",
       "    </tr>\n",
       "    <tr>\n",
       "      <th>8</th>\n",
       "      <td>Super League</td>\n",
       "      <td>25.354839</td>\n",
       "      <td>7663.306452</td>\n",
       "    </tr>\n",
       "    <tr>\n",
       "      <th>9</th>\n",
       "      <td>Süper Lig</td>\n",
       "      <td>39.505376</td>\n",
       "      <td>9641.279570</td>\n",
       "    </tr>\n",
       "  </tbody>\n",
       "</table>\n",
       "</div>"
      ],
      "text/plain": [
       "       current league  total goals  total minutes\n",
       "0          Eredivisie    36.197183    8944.380282\n",
       "1  Jupiler Pro League    34.354839    9446.451613\n",
       "2              LaLiga    46.690722   10744.381443\n",
       "3            Liga NOS    30.019231    8640.365385\n",
       "4             Ligue 1    37.779412    9449.308824\n",
       "5      Premier League    52.050505   12043.424242\n",
       "6        Premier Liga    29.375000    8253.803571\n",
       "7             Serie A    44.282051   10207.371795\n",
       "8        Super League    25.354839    7663.306452\n",
       "9           Süper Lig    39.505376    9641.279570"
      ]
     },
     "execution_count": 12,
     "metadata": {},
     "output_type": "execute_result"
    }
   ],
   "source": [
    "league_goals_mean = strikers_wingers_info[['current league','total goals', 'total minutes']]\n",
    "league_goals_mean = league_goals_mean.groupby('current league', as_index = False)\n",
    "league_goals_mean = league_goals_mean.aggregate(np.mean)\n",
    "league_goals_mean"
   ]
  },
  {
   "cell_type": "markdown",
   "metadata": {},
   "source": [
    "##### Get all strikers who scored more goals than their league average"
   ]
  },
  {
   "cell_type": "code",
   "execution_count": 13,
   "metadata": {},
   "outputs": [
    {
     "data": {
      "text/html": [
       "<div>\n",
       "<style scoped>\n",
       "    .dataframe tbody tr th:only-of-type {\n",
       "        vertical-align: middle;\n",
       "    }\n",
       "\n",
       "    .dataframe tbody tr th {\n",
       "        vertical-align: top;\n",
       "    }\n",
       "\n",
       "    .dataframe thead th {\n",
       "        text-align: right;\n",
       "    }\n",
       "</style>\n",
       "<table border=\"1\" class=\"dataframe\">\n",
       "  <thead>\n",
       "    <tr style=\"text-align: right;\">\n",
       "      <th></th>\n",
       "      <th>name</th>\n",
       "      <th>current league</th>\n",
       "      <th>current club</th>\n",
       "      <th>total goals</th>\n",
       "    </tr>\n",
       "  </thead>\n",
       "  <tbody>\n",
       "    <tr>\n",
       "      <th>0</th>\n",
       "      <td>Klaas-Jan Huntelaar</td>\n",
       "      <td>Eredivisie</td>\n",
       "      <td>Ajax Amsterdam</td>\n",
       "      <td>65.0</td>\n",
       "    </tr>\n",
       "    <tr>\n",
       "      <th>1</th>\n",
       "      <td>Gastón Pereiro</td>\n",
       "      <td>Eredivisie</td>\n",
       "      <td>PSV Eindhoven</td>\n",
       "      <td>37.0</td>\n",
       "    </tr>\n",
       "    <tr>\n",
       "      <th>2</th>\n",
       "      <td>Luuk de Jong</td>\n",
       "      <td>Eredivisie</td>\n",
       "      <td>PSV Eindhoven</td>\n",
       "      <td>75.0</td>\n",
       "    </tr>\n",
       "    <tr>\n",
       "      <th>3</th>\n",
       "      <td>Steven Berghuis</td>\n",
       "      <td>Eredivisie</td>\n",
       "      <td>Feyenoord Rotterdam</td>\n",
       "      <td>38.0</td>\n",
       "    </tr>\n",
       "    <tr>\n",
       "      <th>4</th>\n",
       "      <td>Nicolai Jörgensen</td>\n",
       "      <td>Eredivisie</td>\n",
       "      <td>Feyenoord Rotterdam</td>\n",
       "      <td>76.0</td>\n",
       "    </tr>\n",
       "  </tbody>\n",
       "</table>\n",
       "</div>"
      ],
      "text/plain": [
       "                  name current league         current club  total goals\n",
       "0  Klaas-Jan Huntelaar     Eredivisie       Ajax Amsterdam         65.0\n",
       "1       Gastón Pereiro     Eredivisie        PSV Eindhoven         37.0\n",
       "2         Luuk de Jong     Eredivisie        PSV Eindhoven         75.0\n",
       "3      Steven Berghuis     Eredivisie  Feyenoord Rotterdam         38.0\n",
       "4    Nicolai Jörgensen     Eredivisie  Feyenoord Rotterdam         76.0"
      ]
     },
     "execution_count": 13,
     "metadata": {},
     "output_type": "execute_result"
    }
   ],
   "source": [
    "top_strikers = pd.DataFrame(columns = strikers_wingers_info.columns.tolist())\n",
    "for index,row in league_goals_mean.iterrows():\n",
    "     top_strikers = pd.concat([top_strikers, strikers_wingers_info[(strikers_wingers_info['current league'] == row['current league']) & (strikers_wingers_info['total goals'] >= row['total goals'])]])\n",
    "\n",
    "top_strikers = top_strikers.reset_index()\n",
    "top_strikers = top_strikers[['name','current league','current club','total goals']]\n",
    "top_strikers.head()"
   ]
  },
  {
   "cell_type": "markdown",
   "metadata": {},
   "source": [
    "##### Bar plot to visualize the number of top strikers in a league"
   ]
  },
  {
   "cell_type": "code",
   "execution_count": 14,
   "metadata": {},
   "outputs": [
    {
     "data": {
      "text/plain": [
       "<matplotlib.axes._subplots.AxesSubplot at 0xeff5038fd0>"
      ]
     },
     "execution_count": 14,
     "metadata": {},
     "output_type": "execute_result"
    },
    {
     "data": {
      "image/png": "[encoded data removed]",
      "text/plain": [
       "<Figure size 1080x576 with 1 Axes>"
      ]
     },
     "metadata": {},
     "output_type": "display_data"
    }
   ],
   "source": [
    "plt.figure(figsize=(15,8))\n",
    "sns.countplot(x='current league', data=top_strikers)"
   ]
  },
  {
   "cell_type": "markdown",
   "metadata": {},
   "source": [
    "##### Apply one-hot encoding to help in regression and create train and target variable"
   ]
  },
  {
   "cell_type": "code",
   "execution_count": 15,
   "metadata": {},
   "outputs": [],
   "source": [
    "strikers_wingers_ml = pd.get_dummies(strikers_wingers_info, columns=['position','foot','current league','current club'], prefix=['position','foot','current league','current club'])\n",
    "strikers_wingers_ml.drop('name', axis=1, inplace=True)\n",
    "strikers_wingers_ml.head()\n",
    "\n",
    "goals = strikers_wingers_ml['17/18 goals']\n",
    "strikers_wingers_ml.drop(['17/18 goals','nationality'], axis=1, inplace=True)"
   ]
  },
  {
   "cell_type": "markdown",
   "metadata": {},
   "source": [
    "##### Create training and test model"
   ]
  },
  {
   "cell_type": "code",
   "execution_count": 16,
   "metadata": {},
   "outputs": [],
   "source": [
    "from sklearn.model_selection import train_test_split\n",
    "x_train, x_test, y_train, y_test = train_test_split(strikers_wingers_ml, goals, test_size=0.3)"
   ]
  },
  {
   "cell_type": "markdown",
   "metadata": {},
   "source": [
    "##### Perform standardization"
   ]
  },
  {
   "cell_type": "code",
   "execution_count": 17,
   "metadata": {},
   "outputs": [],
   "source": [
    "from sklearn.preprocessing import StandardScaler\n",
    "sc = StandardScaler()  \n",
    "x_train = sc.fit_transform(x_train)  \n",
    "x_test = sc.transform(x_test) "
   ]
  },
  {
   "cell_type": "markdown",
   "metadata": {},
   "source": [
    "##### Create and fit Random Forest Regressor on Training Data"
   ]
  },
  {
   "cell_type": "code",
   "execution_count": 18,
   "metadata": {
    "scrolled": true
   },
   "outputs": [
    {
     "data": {
      "text/plain": [
       "RandomForestRegressor(bootstrap=True, criterion='mse', max_depth=7,\n",
       "           max_features='auto', max_leaf_nodes=None,\n",
       "           min_impurity_decrease=0.0, min_impurity_split=None,\n",
       "           min_samples_leaf=1, min_samples_split=3,\n",
       "           min_weight_fraction_leaf=0.0, n_estimators=200, n_jobs=4,\n",
       "           oob_score=False, random_state=42, verbose=0, warm_start=False)"
      ]
     },
     "execution_count": 18,
     "metadata": {},
     "output_type": "execute_result"
    }
   ],
   "source": [
    "# Import the model we are using\n",
    "from sklearn.ensemble import RandomForestRegressor\n",
    "# Instantiate model with 1000 decision trees\n",
    "rf = RandomForestRegressor(n_estimators = 200, max_depth=7, min_samples_split=3, n_jobs=4, random_state=42)\n",
    "# Train the model on training data\n",
    "rf.fit(x_train, y_train)"
   ]
  },
  {
   "cell_type": "markdown",
   "metadata": {},
   "source": [
    "##### Calculate Mean Absolute Error"
   ]
  },
  {
   "cell_type": "code",
   "execution_count": 19,
   "metadata": {},
   "outputs": [
    {
     "name": "stdout",
     "output_type": "stream",
     "text": [
      "Mean Absolute Error: 2.02 degrees.\n"
     ]
    }
   ],
   "source": [
    "# Use the forest's predict method on the test data\n",
    "y_pred = rf.predict(x_test)\n",
    "# Calculate the absolute errors\n",
    "errors = abs(y_pred - y_test)\n",
    "# Print out the mean absolute error (mae)\n",
    "print('Mean Absolute Error:', round(np.mean(errors), 2), 'degrees.')"
   ]
  },
  {
   "cell_type": "markdown",
   "metadata": {},
   "source": [
    "##### Calculate R-squared"
   ]
  },
  {
   "cell_type": "code",
   "execution_count": 20,
   "metadata": {},
   "outputs": [
    {
     "data": {
      "text/plain": [
       "0.7549916774363294"
      ]
     },
     "execution_count": 20,
     "metadata": {},
     "output_type": "execute_result"
    }
   ],
   "source": [
    "from sklearn.metrics import r2_score\n",
    "r2_score(y_test, y_pred)"
   ]
  },
  {
   "cell_type": "markdown",
   "metadata": {},
   "source": [
    "##### Perform k-fold Cross Validation"
   ]
  },
  {
   "cell_type": "code",
   "execution_count": 21,
   "metadata": {},
   "outputs": [
    {
     "name": "stdout",
     "output_type": "stream",
     "text": [
      "[0.8513871  0.67797851 0.62483342 0.75334538 0.45000494 0.54632276\n",
      " 0.67721161 0.76645827 0.69039204 0.53131934 0.79556366]\n"
     ]
    },
    {
     "data": {
      "text/plain": [
       "0.6695288215913991"
      ]
     },
     "execution_count": 21,
     "metadata": {},
     "output_type": "execute_result"
    }
   ],
   "source": [
    "# Cross Validation\n",
    "from sklearn.model_selection import cross_val_score\n",
    "cv_results = cross_val_score(rf, strikers_wingers_ml, goals, cv=11)\n",
    "print(cv_results)\n",
    "np.mean(cv_results)"
   ]
  }
 ],
 "metadata": {
  "kernelspec": {
   "display_name": "Python 3",
   "language": "python",
   "name": "python3"
  },
  "language_info": {
   "codemirror_mode": {
    "name": "ipython",
    "version": 3
   },
   "file_extension": ".py",
   "mimetype": "text/x-python",
   "name": "python",
   "nbconvert_exporter": "python",
   "pygments_lexer": "ipython3",
   "version": "3.6.5"
  }
 },
 "nbformat": 4,
 "nbformat_minor": 2
}
